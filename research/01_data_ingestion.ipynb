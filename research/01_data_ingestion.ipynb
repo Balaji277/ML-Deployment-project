{
 "cells": [
  {
   "cell_type": "code",
   "execution_count": 33,
   "metadata": {},
   "outputs": [],
   "source": [
    "import os"
   ]
  },
  {
   "cell_type": "code",
   "execution_count": 34,
   "metadata": {},
   "outputs": [
    {
     "name": "stderr",
     "output_type": "stream",
     "text": [
      "'ls' is not recognized as an internal or external command,\n",
      "operable program or batch file.\n"
     ]
    }
   ],
   "source": [
    "!ls"
   ]
  },
  {
   "cell_type": "code",
   "execution_count": 35,
   "metadata": {},
   "outputs": [
    {
     "name": "stdout",
     "output_type": "stream",
     "text": [
      "c:\\Users\\balub\\OneDrive\n"
     ]
    }
   ],
   "source": [
    "%cd .."
   ]
  },
  {
   "cell_type": "code",
   "execution_count": 36,
   "metadata": {},
   "outputs": [],
   "source": [
    "from dataclasses import dataclass\n",
    "from pathlib import Path\n",
    "\n",
    "@dataclass(frozen=True)\n",
    "class DataIngestionConfig:\n",
    "    root_dir: Path\n",
    "    source_URL: str\n",
    "    local_data_file: Path\n",
    "    unzip_dir: Path\n"
   ]
  },
  {
   "cell_type": "code",
   "execution_count": 37,
   "metadata": {},
   "outputs": [
    {
     "data": {
      "text/plain": [
       "'c:\\\\Users\\\\balub\\\\OneDrive'"
      ]
     },
     "execution_count": 37,
     "metadata": {},
     "output_type": "execute_result"
    }
   ],
   "source": [
    "%pwd "
   ]
  },
  {
   "cell_type": "code",
   "execution_count": 38,
   "metadata": {},
   "outputs": [
    {
     "data": {
      "text/plain": [
       "WindowsPath('C:/Users/balub/OneDrive/Desktop/Balaji sample scripts/ML-Deployment-project/config/config.yaml')"
      ]
     },
     "execution_count": 38,
     "metadata": {},
     "output_type": "execute_result"
    }
   ],
   "source": [
    "from Vision_Models.constants import *\n",
    "from Vision_Models.utils.common import read_yaml, create_directories\n",
    "CONFIG_FILE_PATH\n"
   ]
  },
  {
   "cell_type": "code",
   "execution_count": 39,
   "metadata": {},
   "outputs": [],
   "source": [
    "class ConfigurationManager:\n",
    "        def __init__(\n",
    "            self,\n",
    "            config_filepath = CONFIG_FILE_PATH,\n",
    "            params_filepath = PARAMS_FILE_PATH):\n",
    "                self.config = read_yaml(config_filepath)\n",
    "                self.params = read_yaml(params_filepath)\n",
    "\n",
    "                create_directories([self.config.artifacts_root])\n",
    "\n",
    "        def get_data_ingestion_config(self) -> DataIngestionConfig:\n",
    "                config = self.config.data_ingestion\n",
    "\n",
    "                create_directories([config.root_dir])\n",
    "\n",
    "                data_ingestion_config = DataIngestionConfig(\n",
    "                        root_dir=config.root_dir,\n",
    "                        source_URL=config.source_URL,\n",
    "                        local_data_file=config.local_data_file,\n",
    "                        unzip_dir=config.unzip_dir\n",
    "                )\n",
    "\n",
    "                return data_ingestion_config\n"
   ]
  },
  {
   "cell_type": "code",
   "execution_count": 40,
   "metadata": {},
   "outputs": [],
   "source": [
    "import os\n",
    "import urllib.request as request\n",
    "import zipfile\n",
    "from Vision_Models import logger\n",
    "from Vision_Models.utils.common import get_size"
   ]
  },
  {
   "cell_type": "code",
   "execution_count": 41,
   "metadata": {},
   "outputs": [],
   "source": [
    "class DataIngestion:\n",
    "    def __init__(self, config: DataIngestionConfig):\n",
    "        self.config = config\n",
    "\n",
    "\n",
    "    \n",
    "    def download_file(self):\n",
    "        if not os.path.exists(self.config.local_data_file):\n",
    "            filename, headers = request.urlretrieve(\n",
    "                url = self.config.source_URL,\n",
    "                filename = self.config.local_data_file\n",
    "            )\n",
    "            logger.info(f\"{filename} download! with following info: \\n{headers}\")\n",
    "        else:\n",
    "            logger.info(f\"File already exists of size: {get_size(Path(self.config.local_data_file))}\")  \n",
    "\n",
    "\n",
    "    \n",
    "    def extract_zip_file(self):\n",
    "        \"\"\"\n",
    "        zip_file_path: str\n",
    "        Extracts the zip file into the data directory\n",
    "        Function returns None\n",
    "        \"\"\"\n",
    "        unzip_path = self.config.unzip_dir\n",
    "        os.makedirs(unzip_path, exist_ok=True)\n",
    "        with zipfile.ZipFile(self.config.local_data_file, 'r') as zip_ref:\n",
    "            zip_ref.extractall(unzip_path)"
   ]
  },
  {
   "cell_type": "code",
   "execution_count": 45,
   "metadata": {},
   "outputs": [
    {
     "name": "stdout",
     "output_type": "stream",
     "text": [
      "[2023-11-13 13:43:09,270: INFO: common] yaml file: C:\\Users\\balub\\OneDrive\\Desktop\\Balaji sample scripts\\ML-Deployment-project\\config\\config.yaml loaded successfully\n",
      "[2023-11-13 13:43:09,271: INFO: common] yaml file: C:\\Users\\balub\\OneDrive\\Desktop\\Balaji sample scripts\\ML-Deployment-project\\params.yaml loaded successfully\n",
      "[2023-11-13 13:43:09,272: INFO: common] created directory at: artifacts\n",
      "[2023-11-13 13:43:09,273: INFO: common] created directory at: artifacts/data_ingestion\n",
      "[2023-11-13 13:43:16,508: INFO: 4037744573] artifacts/data_ingestion/data.zip download! with following info: \n",
      "Connection: close\n",
      "Content-Length: 11616915\n",
      "Cache-Control: max-age=300\n",
      "Content-Security-Policy: default-src 'none'; style-src 'unsafe-inline'; sandbox\n",
      "Content-Type: application/zip\n",
      "ETag: \"adf745abc03891fe493c3be264ec012691fe3fa21d861f35a27edbe6d86a76b1\"\n",
      "Strict-Transport-Security: max-age=31536000\n",
      "X-Content-Type-Options: nosniff\n",
      "X-Frame-Options: deny\n",
      "X-XSS-Protection: 1; mode=block\n",
      "X-GitHub-Request-Id: BDB8:6B6C:1A35CB:1EE903:65526E3E\n",
      "Accept-Ranges: bytes\n",
      "Date: Mon, 13 Nov 2023 18:43:10 GMT\n",
      "Via: 1.1 varnish\n",
      "X-Served-By: cache-iad-kcgs7200128-IAD\n",
      "X-Cache: MISS\n",
      "X-Cache-Hits: 0\n",
      "X-Timer: S1699900990.300347,VS0,VE168\n",
      "Vary: Authorization,Accept-Encoding,Origin\n",
      "Access-Control-Allow-Origin: *\n",
      "Cross-Origin-Resource-Policy: cross-origin\n",
      "X-Fastly-Request-ID: 94f810ce4d0216c5591aafb05ddaaa708c3748d6\n",
      "Expires: Mon, 13 Nov 2023 18:48:10 GMT\n",
      "Source-Age: 0\n",
      "\n",
      "\n"
     ]
    }
   ],
   "source": [
    "try:\n",
    "    config = ConfigurationManager()\n",
    "    data_ingestion_config = config.get_data_ingestion_config()\n",
    "    data_ingestion = DataIngestion(config=data_ingestion_config)\n",
    "    data_ingestion.download_file()\n",
    "    data_ingestion.extract_zip_file()\n",
    "except Exception as e:\n",
    "    raise e"
   ]
  },
  {
   "cell_type": "code",
   "execution_count": null,
   "metadata": {},
   "outputs": [
    {
     "data": {
      "text/plain": [
       "{'artifacts_root': 'artifacts',\n",
       " 'data_ingestion': {'root_dir': 'artifacts/data_ingestion',\n",
       "  'source_URL': 'https://github.com/entbappy/Branching-tutorial/raw/master/Chicken-fecal-images.zip',\n",
       "  'local_data_file': 'artifacts/data_ingestion/data.zip',\n",
       "  'unzip_dir': 'artifacts/data_ingestion'},\n",
       " 'prepare_base_model': {'root_dir': 'artifacts/prepare_base_model',\n",
       "  'base_model_path': 'artifacts/prepare_base_model/base_model.h5',\n",
       "  'updated_base_model_path': 'artifacts/prepare_base_model/base_model_updated.h5'},\n",
       " 'prepare_callbacks': {'root_dir': 'artifacts/prepare_callbacks',\n",
       "  'tensorboard_root_log_dir': 'artifacts/prepare_callbacks/tensorboard_log_dir',\n",
       "  'checkpoint_model_filepath': 'artifacts/prepare_callbacks/checkpoint_dir/model.h5'},\n",
       " 'training': {'root_dir': 'artifacts/training',\n",
       "  'trained_model_path': 'artifacts/training/model.h5'}}"
      ]
     },
     "execution_count": 21,
     "metadata": {},
     "output_type": "execute_result"
    }
   ],
   "source": [
    "import yaml\n",
    "with open(r'C:\\Users\\balub\\OneDrive\\Desktop\\Balaji sample scripts\\ML-Deployment-project\\config\\config.yaml') as f:\n",
    "    config = yaml.safe_load(f)\n",
    "\n",
    "config"
   ]
  },
  {
   "cell_type": "code",
   "execution_count": null,
   "metadata": {},
   "outputs": [],
   "source": []
  }
 ],
 "metadata": {
  "kernelspec": {
   "display_name": "Python 3",
   "language": "python",
   "name": "python3"
  },
  "language_info": {
   "codemirror_mode": {
    "name": "ipython",
    "version": 3
   },
   "file_extension": ".py",
   "mimetype": "text/x-python",
   "name": "python",
   "nbconvert_exporter": "python",
   "pygments_lexer": "ipython3",
   "version": "3.11.3"
  }
 },
 "nbformat": 4,
 "nbformat_minor": 2
}
